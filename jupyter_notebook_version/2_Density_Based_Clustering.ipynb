{
 "cells": [
  {
   "cell_type": "code",
   "execution_count": null,
   "id": "cc228821",
   "metadata": {},
   "outputs": [],
   "source": [
    "#import all necessary packages\n",
    "import pandas as pd\n",
    "import numpy as np\n",
    "from sklearn.neighbors import NearestNeighbors\n",
    "import matplotlib.pyplot as plt\n",
    "from sklearn.cluster import DBSCAN\n",
    "from collections import Counter\n",
    "import seaborn as sns\n",
    "import statistics as st\n",
    "\n",
    "from mpl_toolkits.mplot3d import Axes3D\n",
    "from matplotlib.colors import ListedColormap\n",
    "from sklearn.metrics.pairwise import pairwise_distances\n",
    "import sklearn\n",
    "\n",
    "import itertools\n",
    "import os\n",
    "\n",
    "from kneed import KneeLocator, DataGenerator as dg\n",
    "\n",
    "import numpy"
   ]
  },
  {
   "cell_type": "code",
   "execution_count": null,
   "id": "aaf1444b",
   "metadata": {},
   "outputs": [],
   "source": [
    "pd.set_option('display.max_columns', None)"
   ]
  },
  {
   "cell_type": "code",
   "execution_count": null,
   "id": "7e063d41",
   "metadata": {},
   "outputs": [],
   "source": [
    "#read in data\n",
    "df1 = pd.read_csv('alphafold_mapped_confidence_above70.csv')"
   ]
  },
  {
   "cell_type": "code",
   "execution_count": null,
   "id": "527cfbef",
   "metadata": {},
   "outputs": [],
   "source": [
    "#first do one gene, here VPS13D\n",
    "df2 = df1[df1['gene_name']=='VPS13D']"
   ]
  },
  {
   "cell_type": "code",
   "execution_count": null,
   "id": "dbb70c34",
   "metadata": {},
   "outputs": [],
   "source": [
    "df = pd.DataFrame().assign(x =df2['x_coord'], y =df2['y_coord'], z =df2['z_coord'])\n",
    "\n",
    "nbrs = NearestNeighbors(n_neighbors=5).fit(df)\n",
    "neigh_dist, neigh_ind = nbrs.kneighbors(df)\n",
    "sort_neigh_dist = np.sort(neigh_dist, axis=0)\n",
    "k_dist = sort_neigh_dist[:, 4]\n",
    "k_dist_list = k_dist.tolist()\n",
    "length = list(range(len(k_dist_list)))\n",
    "\n",
    "\n",
    "x, y = length, k_dist_list\n",
    "kl = KneeLocator(x, y, curve=\"convex\")\n",
    "epsilon = int(k_dist_list[kl.knee])/2\n",
    "\n",
    "clusters = DBSCAN(eps= epsilon, min_samples=6).fit(df)\n",
    "cluster_list = clusters.labels_.tolist()\n",
    "df.insert(0, 'cluster', cluster_list)\n",
    "df['gene'] = 'VPS13d'\n",
    "df = df.reset_index()"
   ]
  },
  {
   "cell_type": "code",
   "execution_count": null,
   "id": "7d3ab973",
   "metadata": {},
   "outputs": [],
   "source": [
    "cluster_list2 = [*set(cluster_list)]\n",
    "cluster_list2"
   ]
  },
  {
   "cell_type": "code",
   "execution_count": null,
   "id": "c1a99478",
   "metadata": {},
   "outputs": [],
   "source": [
    "# do one cluster\n",
    "\n",
    "df_cluster_loop = df[df['cluster'] == 0]\n",
    "dist_matrix = pd.DataFrame().assign(x=df_cluster_loop['x'], y=df_cluster_loop['y'], z=df_cluster_loop['z'])\n",
    "pw_dist = pairwise_distances(dist_matrix)\n",
    "avg_dist = numpy.average(pw_dist)\n",
    "df_cluster_loop[\"dist\"] = avg_dist\n",
    "df_cluster_loop['num_members'] = len(df_cluster_loop['gene'])\n",
    "df_cluster = df_cluster_loop.copy()"
   ]
  },
  {
   "cell_type": "code",
   "execution_count": null,
   "id": "add050df",
   "metadata": {},
   "outputs": [],
   "source": [
    "#do the rest\n",
    "cluster_list2.remove(0)\n",
    "\n",
    "for i in cluster_list2:\n",
    "    df_cluster_loop = df[df['cluster'] == i]\n",
    "    dist_matrix = pd.DataFrame().assign(x=df_cluster_loop['x'], y=df_cluster_loop['y'], z=df_cluster_loop['z'])\n",
    "    pw_dist = pairwise_distances(dist_matrix)\n",
    "    avg_dist = numpy.average(pw_dist)\n",
    "    df_cluster_loop[\"dist\"] = avg_dist\n",
    "    df_cluster_loop['num_members'] = len(df_cluster_loop['gene'])\n",
    "    \n",
    "    dfs = [df_cluster, df_cluster_loop]\n",
    "    df_cluster = pd.concat(dfs)"
   ]
  },
  {
   "cell_type": "code",
   "execution_count": null,
   "id": "8c1ace06",
   "metadata": {},
   "outputs": [],
   "source": [
    "#get all genes that have 5 or more mutations\n",
    "genes = df1['gene_name'].to_list()\n",
    "genes.remove('VPS13D')\n",
    "\n",
    "res  = []\n",
    "for x in set(genes):\n",
    "    if genes.count(x) >= 5:\n",
    "        res.append(x)"
   ]
  },
  {
   "cell_type": "code",
   "execution_count": null,
   "id": "bb4df87f",
   "metadata": {},
   "outputs": [],
   "source": [
    "#do all genes \n",
    "#possible error: small number of genes may not have a clear \"knee\", epsilon for those has to be picked manually\n",
    "for i in res:\n",
    "    subset = df1[df1[\"gene_name\"] == i]\n",
    "    xyz = pd.DataFrame().assign(x =subset['x_coord'], y =subset['y_coord'], z =subset['z_coord'])\n",
    "    nbrs = NearestNeighbors(n_neighbors=5).fit(xyz)\n",
    "    neigh_dist, neigh_ind = nbrs.kneighbors(xyz)\n",
    "    sort_neigh_dist = np.sort(neigh_dist, axis=0)\n",
    "    k_dist = sort_neigh_dist[:, 4]\n",
    "    k_dist_list = k_dist.tolist()\n",
    "    length = list(range(len(k_dist_list)))\n",
    "        \n",
    "    x, y = length, k_dist_list\n",
    "    kl = KneeLocator(x, y, curve=\"convex\")\n",
    "    epsilon = int(k_dist_list[kl.knee])/2\n",
    "    \n",
    "    clusters = DBSCAN(eps= epsilon, min_samples=6).fit(xyz)\n",
    "    cluster_list = clusters.labels_.tolist()\n",
    "    xyz.insert(0, 'cluster', cluster_list)\n",
    "    xyz['gene'] = i\n",
    "    xyz = xyz.reset_index()\n",
    "        \n",
    "    cluster_list2 = [*set(cluster_list)]\n",
    "        \n",
    "    for x in cluster_list2:\n",
    "        df_cluster_loop = xyz[xyz['cluster'] == x]\n",
    "        dist_matrix = pd.DataFrame().assign(x=df_cluster_loop['x'], y=df_cluster_loop['y'], z=df_cluster_loop['z'])\n",
    "        pw_dist = pairwise_distances(dist_matrix)\n",
    "        avg_dist = numpy.average(pw_dist)\n",
    "        df_cluster_loop[\"dist\"] = avg_dist\n",
    "        df_cluster_loop['num_members'] = len(df_cluster_loop['gene'])\n",
    "\n",
    "        dfs = [df_cluster, df_cluster_loop]\n",
    "        df_cluster = pd.concat(dfs)\n"
   ]
  },
  {
   "cell_type": "code",
   "execution_count": null,
   "id": "1c8d5161",
   "metadata": {},
   "outputs": [],
   "source": [
    "#prep og df to merge with cluster info\n",
    "df1 = df1.rename(columns={\"x_coord\": \"x\", \"y_coord\": \"y\",\"z_coord\":'z'})\n",
    "df1['index1'] = df1.index\n",
    "df1 = df1.rename(columns={\"gene_name\": \"gene\"})"
   ]
  },
  {
   "cell_type": "code",
   "execution_count": null,
   "id": "ee1943ec",
   "metadata": {},
   "outputs": [],
   "source": [
    "#prep cluster info df to merge with og df\n",
    "df_cluster = df_cluster.rename(columns={\"index\": \"index1\"})"
   ]
  },
  {
   "cell_type": "code",
   "execution_count": null,
   "id": "d2ed9b82",
   "metadata": {},
   "outputs": [],
   "source": [
    "#merge both dfs to get all info\n",
    "df_final = pd.merge(df1,df_cluster,on=['x','y','z','gene','index1'])"
   ]
  },
  {
   "cell_type": "code",
   "execution_count": null,
   "id": "3813618e",
   "metadata": {},
   "outputs": [],
   "source": [
    "#save\n",
    "df_final.to_csv('ready_for_ML_processed.csv')"
   ]
  }
 ],
 "metadata": {
  "kernelspec": {
   "display_name": "Python 3",
   "language": "python",
   "name": "python3"
  },
  "language_info": {
   "codemirror_mode": {
    "name": "ipython",
    "version": 3
   },
   "file_extension": ".py",
   "mimetype": "text/x-python",
   "name": "python",
   "nbconvert_exporter": "python",
   "pygments_lexer": "ipython3",
   "version": "3.8.8"
  }
 },
 "nbformat": 4,
 "nbformat_minor": 5
}
