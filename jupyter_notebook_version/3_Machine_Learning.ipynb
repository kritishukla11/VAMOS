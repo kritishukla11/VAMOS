{
 "cells": [
  {
   "cell_type": "code",
   "execution_count": null,
   "id": "4c5d3cd8",
   "metadata": {},
   "outputs": [],
   "source": [
    "#import all packages\n",
    "import warnings\n",
    "import pandas as pd\n",
    "import numpy as np\n",
    "import matplotlib.pyplot as plt\n",
    "from sklearn.manifold import TSNE\n",
    "\n",
    "from sklearn.neighbors import NearestNeighbors\n",
    "from matplotlib import pyplot as plt\n",
    "import xgboost as xg\n",
    "import seaborn as sns\n",
    "\n",
    "from sklearn.model_selection import train_test_split\n",
    "from sklearn.linear_model import LogisticRegression\n",
    "from sklearn.ensemble import VotingClassifier, RandomForestClassifier\n",
    "from sklearn.preprocessing import StandardScaler\n",
    "from sklearn import metrics\n",
    "from sklearn.utils.class_weight import compute_class_weight, compute_sample_weight\n",
    "\n",
    "from collections import defaultdict\n",
    "\n",
    "from feature_engine.wrappers import SklearnTransformerWrapper\n",
    "\n",
    "import warnings\n",
    "import pandas as pd\n",
    "from sklearn.cluster import DBSCAN\n",
    "import numpy as np\n",
    "import matplotlib.pyplot as plt\n",
    "from sklearn.manifold import TSNE\n",
    "\n",
    "from sklearn.neighbors import NearestNeighbors\n",
    "from matplotlib import pyplot as plt\n",
    "import xgboost as xg\n",
    "import seaborn as sns\n",
    "\n",
    "from sklearn.model_selection import train_test_split\n",
    "from sklearn.linear_model import LogisticRegression\n",
    "from sklearn.ensemble import VotingClassifier, RandomForestClassifier\n",
    "from sklearn.preprocessing import StandardScaler\n",
    "from sklearn import metrics\n",
    "from sklearn.utils.class_weight import compute_class_weight, compute_sample_weight\n",
    "from sklearn.model_selection import cross_validate\n",
    "from sklearn.model_selection import cross_val_predict\n",
    "from sklearn.metrics import make_scorer, accuracy_score, precision_score, recall_score, f1_score\n",
    "from sklearn.metrics import plot_roc_curve\n",
    "\n",
    "from collections import defaultdict"
   ]
  },
  {
   "cell_type": "code",
   "execution_count": null,
   "id": "32f37365",
   "metadata": {},
   "outputs": [],
   "source": [
    "pd.set_option('display.max_columns', None)"
   ]
  },
  {
   "cell_type": "code",
   "execution_count": null,
   "id": "7437d924",
   "metadata": {},
   "outputs": [],
   "source": [
    "#read in data\n",
    "new_data = pd.read_csv('ready_for_ML_processed.csv')"
   ]
  },
  {
   "cell_type": "code",
   "execution_count": null,
   "id": "27972d69",
   "metadata": {},
   "outputs": [],
   "source": [
    "#need to add tumor sample barcodes from depmap\n",
    "#read in file with tumor sample barcode info\n",
    "df1 = pd.read_csv('sample_info.csv')\n",
    "df1 = df1.set_index(['DepMap_ID'])"
   ]
  },
  {
   "cell_type": "code",
   "execution_count": null,
   "id": "22ba9194",
   "metadata": {},
   "outputs": [],
   "source": [
    "#add blank column to df\n",
    "new_data['Tumor_Sample_Barcode'] = 'none'"
   ]
  },
  {
   "cell_type": "code",
   "execution_count": null,
   "id": "3756dbf4",
   "metadata": {},
   "outputs": [],
   "source": [
    "#add barcode info to df\n",
    "for i in range(len(new_data[\"DepMap_ID\"])):\n",
    "    if new_data[\"DepMap_ID\"][i] in df1.index:\n",
    "        new_data['Tumor_Sample_Barcode'][i] = df1.loc[new_data[\"DepMap_ID\"][i]][0]"
   ]
  },
  {
   "cell_type": "code",
   "execution_count": null,
   "id": "1c0df071",
   "metadata": {},
   "outputs": [],
   "source": [
    "#load gsea expression or crispr sensitivity data  \n",
    "data_label = pd.read_csv('DF_NRF2v2_GSEA.csv')\n",
    "data_label = data_label.set_index('index')"
   ]
  },
  {
   "cell_type": "code",
   "execution_count": null,
   "id": "a961602e",
   "metadata": {},
   "outputs": [],
   "source": [
    "#create empty column in df\n",
    "new_data['label'] = 0"
   ]
  },
  {
   "cell_type": "code",
   "execution_count": null,
   "id": "5d6452bf",
   "metadata": {},
   "outputs": [],
   "source": [
    "#add expression/sensitivity data to df\n",
    "for i in range(len(new_data[\"Tumor_Sample_Barcode\"])):\n",
    "    if new_data[\"Tumor_Sample_Barcode\"][i] in data_label.index:\n",
    "        new_data['label'][i] = data_label.loc[new_data[\"Tumor_Sample_Barcode\"][i]][0]"
   ]
  },
  {
   "cell_type": "code",
   "execution_count": null,
   "id": "1a1c46d1",
   "metadata": {},
   "outputs": [],
   "source": [
    "new_data['label'].describe()"
   ]
  },
  {
   "cell_type": "code",
   "execution_count": null,
   "id": "9553f8df",
   "metadata": {},
   "outputs": [],
   "source": [
    "#change SD and mean values based on earlier output\n",
    "SD =1907.116650\n",
    "Mean =2279.635621\n",
    "up_thresh = Mean + SD\n",
    "down_thresh = Mean - SD"
   ]
  },
  {
   "cell_type": "code",
   "execution_count": null,
   "id": "c7de5919",
   "metadata": {},
   "outputs": [],
   "source": [
    "#make function to sep class1 from class 0\n",
    "def categorize(df, threshold):\n",
    "    row = df['label']\n",
    "    df['class'] = np.where( row > threshold, 1, 0)"
   ]
  },
  {
   "cell_type": "code",
   "execution_count": null,
   "id": "8cb31e1c",
   "metadata": {},
   "outputs": [],
   "source": [
    "#assign preliminary class1 or class0\n",
    "categorize(new_data, up_thresh)"
   ]
  },
  {
   "cell_type": "code",
   "execution_count": null,
   "id": "7304334d",
   "metadata": {},
   "outputs": [],
   "source": [
    "#balance data as needed by oversampling\n",
    "class1 = new_data[new_data['class']==1]\n",
    "class0 = new_data[new_data['class']==0]\n",
    "\n",
    "print(len(class1),len(class0))"
   ]
  },
  {
   "cell_type": "code",
   "execution_count": null,
   "id": "52f5d81f",
   "metadata": {},
   "outputs": [],
   "source": [
    "class1_balanced = pd.concat([class1,class1]) #repeat this line as many times as needed to have equal numbers\n",
    "new_data_b = pd.concat([class1_balanced,class0])"
   ]
  },
  {
   "cell_type": "code",
   "execution_count": null,
   "id": "e510132c",
   "metadata": {},
   "outputs": [],
   "source": [
    "#perform machine learning\n",
    "X = new_data_b[['x', 'y', 'z','cluster','dist','num_members']]\n",
    "y = new_data_b['class']\n",
    "\n",
    "rf_r = RandomForestClassifier(n_estimators=300, random_state=42, class_weight= 'balanced')\n",
    "\n",
    "scoring_choice = {'accuracy' : make_scorer(accuracy_score), \n",
    "                          'precision' : make_scorer(precision_score),\n",
    "                          'recall' : make_scorer(recall_score), \n",
    "                          'f1_score' : make_scorer(f1_score),\n",
    "                          'mcc:' : make_scorer(matthews_corrcoef)}\n",
    "\n",
    "rf_r_scores = cross_validate(estimator = rf_r, X=X, y=y, cv=5,\n",
    "                                      scoring = scoring_choice,\n",
    "                                      return_train_score=True)\n",
    "rf_r_results = cross_val_predict(rf_r, X, y, cv=5)"
   ]
  },
  {
   "cell_type": "code",
   "execution_count": null,
   "id": "7b37f4a4",
   "metadata": {},
   "outputs": [],
   "source": [
    "#get scores\n",
    "rf_r_scores"
   ]
  },
  {
   "cell_type": "code",
   "execution_count": null,
   "id": "fdfa4eb6",
   "metadata": {},
   "outputs": [],
   "source": [
    "#merge machine learning output with previous df\n",
    "df_results = X.copy()\n",
    "df_results['class'] = pd.Series(rf_r_results)\n",
    "new_data_2 = pd.merge(df_results,new_data_b,on=['x','y','z'])"
   ]
  },
  {
   "cell_type": "code",
   "execution_count": null,
   "id": "248f2d5d",
   "metadata": {},
   "outputs": [],
   "source": [
    "new_data_2.to_csv('NRF2_CCLE_data_afterML.csv')"
   ]
  }
 ],
 "metadata": {
  "kernelspec": {
   "display_name": "Python 3",
   "language": "python",
   "name": "python3"
  },
  "language_info": {
   "codemirror_mode": {
    "name": "ipython",
    "version": 3
   },
   "file_extension": ".py",
   "mimetype": "text/x-python",
   "name": "python",
   "nbconvert_exporter": "python",
   "pygments_lexer": "ipython3",
   "version": "3.8.8"
  }
 },
 "nbformat": 4,
 "nbformat_minor": 5
}
