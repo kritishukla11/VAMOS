{
 "cells": [
  {
   "cell_type": "code",
   "execution_count": null,
   "id": "fde5ae82",
   "metadata": {},
   "outputs": [],
   "source": [
    "#import necessary packages\n",
    "import pandas as pd \n",
    "import numpy as np"
   ]
  },
  {
   "cell_type": "code",
   "execution_count": null,
   "id": "b3f89979",
   "metadata": {},
   "outputs": [],
   "source": [
    "#load in data\n",
    "df = pd.read_csv('NRF2_CCLE_data_afterML.csv')"
   ]
  },
  {
   "cell_type": "code",
   "execution_count": null,
   "id": "caa9b5c9",
   "metadata": {},
   "outputs": [],
   "source": [
    "genes = [*set(df['gene'].to_list())]"
   ]
  },
  {
   "cell_type": "code",
   "execution_count": null,
   "id": "3ad33141",
   "metadata": {},
   "outputs": [],
   "source": [
    "#calculate log_odds\n",
    "gene_list = []\n",
    "cluster_list = []\n",
    "log_odds_list = []\n",
    "\n",
    "for x in genes:\n",
    "    sub = df[df['gene']==x]\n",
    "    N = len(sub)\n",
    "    \n",
    "    array_clust = sub['cluster'].to_numpy()\n",
    "    array_class1 = sub['class'].to_numpy()\n",
    "    \n",
    "    joint_counts = pd.crosstab(array_clust,array_class1, rownames=['cluster'], colnames=['class'])\n",
    "    joint_prob = joint_counts/N\n",
    "    \n",
    "    sub_cluster_list = [*set(sub['cluster'].to_list())]\n",
    "    \n",
    "    for i in sub_cluster_list:\n",
    "        sub_cluster_df = sub[sub['cluster']==i]\n",
    "        \n",
    "        if len([*set(sub_cluster_df['label'].to_list())]) >= 3:\n",
    "            \n",
    "            if 0 in set(sub['class']) and 1 in set(sub_cluster_df['class']) and 0 in set(sub_cluster_df['class']):\n",
    "                d = sum(joint_counts[0])-joint_counts[0][i]\n",
    "                b = joint_counts[0][i]\n",
    "                c = sum(joint_counts[1])-joint_counts[1][i]\n",
    "                a = joint_counts[1][i]\n",
    "            \n",
    "                odds = np.true_divide(a,c+0.00000001)\n",
    "                OR = np.true_divide(np.multiply(a,d),np.multiply(b,c))\n",
    "                LOR = np.log(OR)\n",
    "            \n",
    "                gene_list.append(x)\n",
    "                cluster_list.append(i)\n",
    "                log_odds_list.append(LOR)\n",
    "            elif 0 in set(sub['class']) and 1 in set(sub_cluster_df['class']):\n",
    "                d = sum(joint_counts[0])\n",
    "                b = 0\n",
    "                c = sum(joint_counts[1])-joint_counts[1][i]\n",
    "                a = joint_counts[1][i]\n",
    "            \n",
    "                odds = np.true_divide(a,c)\n",
    "                OR = np.true_divide(np.multiply(a,d),(np.multiply(b,c)+0.001))\n",
    "                LOR = np.log(OR)\n",
    "            \n",
    "                gene_list.append(x)\n",
    "                cluster_list.append(i)\n",
    "                log_odds_list.append(LOR)\n",
    "            \n",
    "            elif 1 in set(sub_cluster_df['class']):\n",
    "                d = 0\n",
    "                b = 0\n",
    "                c = sum(joint_counts[1])-joint_counts[1][i]\n",
    "                a = joint_counts[1][i]\n",
    "            \n",
    "                odds = np.true_divide(a,c)\n",
    "                OR = np.true_divide(np.multiply(a,d),(np.multiply(b,c)+0.001))\n",
    "                LOR = np.log(OR)\n",
    "            \n",
    "                gene_list.append(x)\n",
    "                cluster_list.append(i)\n",
    "                log_odds_list.append(LOR)\n",
    "            \n",
    "            else:\n",
    "                continue\n",
    "                \n",
    "        else:\n",
    "            continue"
   ]
  },
  {
   "cell_type": "code",
   "execution_count": null,
   "id": "f83ea4ff",
   "metadata": {},
   "outputs": [],
   "source": [
    "df2= pd.DataFrame(list(zip(gene_list, cluster_list,log_odds_list)),\n",
    "                  columns =['gene', 'cluster','log_odds'])"
   ]
  },
  {
   "cell_type": "code",
   "execution_count": null,
   "id": "0c6e254a",
   "metadata": {},
   "outputs": [],
   "source": [
    "#get rid of outliers\n",
    "df3 = df2[df2['log_odds']<100]\n",
    "df3 = df3[df3['log_odds']>-100]\n",
    "df3 = df3.dropna()\n",
    "df3"
   ]
  },
  {
   "cell_type": "code",
   "execution_count": null,
   "id": "7a7bdca6",
   "metadata": {},
   "outputs": [],
   "source": [
    "#work on getting size of each cluster next\n",
    "#assign cluster id to each df\n",
    "df3['id'] = df3['gene'] + '_' + df3['cluster'].astype(str)\n",
    "df['id'] = df['gene'] + '_' + df['cluster'].astype(str)"
   ]
  },
  {
   "cell_type": "code",
   "execution_count": null,
   "id": "619babc7",
   "metadata": {},
   "outputs": [],
   "source": [
    "cluster_id = df3['id'].to_list()"
   ]
  },
  {
   "cell_type": "code",
   "execution_count": null,
   "id": "49d67764",
   "metadata": {},
   "outputs": [],
   "source": [
    "#get length of each cluster\n",
    "id_list = []\n",
    "num_list = []\n",
    "\n",
    "for i in cluster_id:\n",
    "    sub = df[df['id'] == i]\n",
    "    id_list.append(i)\n",
    "    num_list.append(len(sub))"
   ]
  },
  {
   "cell_type": "code",
   "execution_count": null,
   "id": "1d7de245",
   "metadata": {},
   "outputs": [],
   "source": [
    "df_num= pd.DataFrame(list(zip(id_list, num_list)),\n",
    "                  columns =['id', 'num'])\n",
    "df_num = df_num.set_index('id')"
   ]
  },
  {
   "cell_type": "code",
   "execution_count": null,
   "id": "3f711002",
   "metadata": {},
   "outputs": [],
   "source": [
    "df3['num'] = 'none'\n",
    "df3 = df3.reset_index()"
   ]
  },
  {
   "cell_type": "code",
   "execution_count": null,
   "id": "06dccf02",
   "metadata": {},
   "outputs": [],
   "source": [
    "#add lengths to df\n",
    "for i in range(len(df3[\"id\"])):\n",
    "    if df3[\"id\"][i] in df_num.index:\n",
    "        df3['num'][i] = df_num.loc[df3[\"id\"][i]][0]"
   ]
  },
  {
   "cell_type": "code",
   "execution_count": null,
   "id": "a923ff8f",
   "metadata": {},
   "outputs": [],
   "source": [
    "#get norm diff of class1 to class0 for each cluster and gene\n",
    "id_list2 = []\n",
    "diff_list = []\n",
    "\n",
    "for i in cluster_id:\n",
    "    sub = df[df['id'] == i]\n",
    "    sub1 = sub[sub['class']==1]\n",
    "    sub0 = sub[sub['class']==0]\n",
    "    id_list2.append(i)\n",
    "    diff_list.append(sub1['label'].mean()-sub0['label'].mean())"
   ]
  },
  {
   "cell_type": "code",
   "execution_count": null,
   "id": "eb489b29",
   "metadata": {},
   "outputs": [],
   "source": [
    "df_diff= pd.DataFrame(list(zip(id_list2, diff_list)),\n",
    "                  columns =['id', 'diff'])"
   ]
  },
  {
   "cell_type": "code",
   "execution_count": null,
   "id": "a488e40e",
   "metadata": {},
   "outputs": [],
   "source": [
    "df_diff = df_diff.set_index('id')"
   ]
  },
  {
   "cell_type": "code",
   "execution_count": null,
   "id": "cce26bfa",
   "metadata": {},
   "outputs": [],
   "source": [
    "df3['diff'] = 'none'"
   ]
  },
  {
   "cell_type": "code",
   "execution_count": null,
   "id": "d849e74c",
   "metadata": {},
   "outputs": [],
   "source": [
    "for i in range(len(df3[\"id\"])):\n",
    "    if df3[\"id\"][i] in df_diff.index:\n",
    "        df3['diff'][i] = df_diff.loc[df3[\"id\"][i]][0]"
   ]
  },
  {
   "cell_type": "code",
   "execution_count": null,
   "id": "59e0afde",
   "metadata": {},
   "outputs": [],
   "source": [
    "print(df['label'].mean(), df['label'].std())"
   ]
  },
  {
   "cell_type": "code",
   "execution_count": null,
   "id": "f4ebb243",
   "metadata": {},
   "outputs": [],
   "source": [
    "df3['norm_diff'] = 'none'"
   ]
  },
  {
   "cell_type": "code",
   "execution_count": null,
   "id": "ef4379e3",
   "metadata": {},
   "outputs": [],
   "source": [
    "for i in range(len(df3)):\n",
    "    df3['norm_diff'][i] = (df3['diff'][i] - 2279.635620930903)/1907.116650152018"
   ]
  },
  {
   "cell_type": "code",
   "execution_count": null,
   "id": "bf7cacdd",
   "metadata": {},
   "outputs": [],
   "source": [
    "df3"
   ]
  },
  {
   "cell_type": "code",
   "execution_count": null,
   "id": "16fa0e89",
   "metadata": {},
   "outputs": [],
   "source": [
    "df3.to_csv('filtered_sorted_NRF2_CCLE_RNAseq.csv')\n",
    "#can now filter and sort this dataframe to find genes with high density, log_odds, norm_diff"
   ]
  },
  {
   "cell_type": "code",
   "execution_count": null,
   "id": "f90ad4dc",
   "metadata": {},
   "outputs": [],
   "source": [
    "df['filter'] = 'no'"
   ]
  },
  {
   "cell_type": "code",
   "execution_count": null,
   "id": "0b7b74cb",
   "metadata": {},
   "outputs": [],
   "source": [
    "clusters_list = df4['id'].to_list()"
   ]
  },
  {
   "cell_type": "code",
   "execution_count": null,
   "id": "3614c83c",
   "metadata": {},
   "outputs": [],
   "source": [
    "df4 = df3[df3['num'] > 12]\n",
    "df4 = df4[df4['norm_diff'] > 1]"
   ]
  },
  {
   "cell_type": "code",
   "execution_count": null,
   "id": "808cd74e",
   "metadata": {},
   "outputs": [],
   "source": [
    "df4"
   ]
  },
  {
   "cell_type": "code",
   "execution_count": null,
   "id": "788afd4a",
   "metadata": {},
   "outputs": [],
   "source": [
    "for i in range(len(df['id'])):\n",
    "    if df[\"id\"][i] in clusters_list:\n",
    "        df['filter'][i] = 'yes'"
   ]
  },
  {
   "cell_type": "code",
   "execution_count": null,
   "id": "de91783a",
   "metadata": {},
   "outputs": [],
   "source": [
    "df_filtered = df[df['filter']=='yes']"
   ]
  },
  {
   "cell_type": "code",
   "execution_count": null,
   "id": "56f8485d",
   "metadata": {},
   "outputs": [],
   "source": [
    "df_filtered.to_csv('NRF2_CCLE_RNAseq_postfilter.csv')"
   ]
  },
  {
   "cell_type": "code",
   "execution_count": null,
   "id": "524d2492",
   "metadata": {},
   "outputs": [],
   "source": []
  }
 ],
 "metadata": {
  "kernelspec": {
   "display_name": "Python 3",
   "language": "python",
   "name": "python3"
  },
  "language_info": {
   "codemirror_mode": {
    "name": "ipython",
    "version": 3
   },
   "file_extension": ".py",
   "mimetype": "text/x-python",
   "name": "python",
   "nbconvert_exporter": "python",
   "pygments_lexer": "ipython3",
   "version": "3.8.8"
  }
 },
 "nbformat": 4,
 "nbformat_minor": 5
}
