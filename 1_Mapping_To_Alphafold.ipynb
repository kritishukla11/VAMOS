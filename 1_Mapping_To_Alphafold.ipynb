{
 "cells": [
  {
   "cell_type": "code",
   "execution_count": null,
   "id": "3cc692b5",
   "metadata": {},
   "outputs": [],
   "source": [
    "#importing all necessary packages\n",
    "\n",
    "#this is for mapping\n",
    "from unipressed import IdMappingClient\n",
    "import time\n",
    "\n",
    "#pandas\n",
    "import pandas as pd\n",
    "\n",
    "#cif reading\n",
    "import sys\n",
    "from gemmi import cif\n",
    "\n",
    "#plotting\n",
    "import matplotlib.pyplot as plt\n",
    "\n",
    "#joining lists, opening files\n",
    "import itertools\n",
    "import os"
   ]
  },
  {
   "cell_type": "code",
   "execution_count": null,
   "id": "1ac463fd",
   "metadata": {},
   "outputs": [],
   "source": [
    "pd.set_option('display.max_columns', None)"
   ]
  },
  {
   "cell_type": "code",
   "execution_count": null,
   "id": "f8f554df",
   "metadata": {},
   "outputs": [],
   "source": [
    "#this is the data from CCLE\n",
    "depmap = pd.read_csv(\"CCLE_mutations.csv\")\n",
    "depmap = depmap.rename(columns={\"Hugo_Symbol\": \"gene_name\"})"
   ]
  },
  {
   "cell_type": "code",
   "execution_count": null,
   "id": "e8542815",
   "metadata": {},
   "outputs": [],
   "source": [
    "#this is a file with the gene name to uniprot mapping info\n",
    "info = pd.read_csv('mut_confidence_mapped.csv')"
   ]
  },
  {
   "cell_type": "code",
   "execution_count": null,
   "id": "e66b572b",
   "metadata": {},
   "outputs": [],
   "source": [
    "#merging the two files and processing the columns\n",
    "metadata = pd.merge(depmap, info, on='gene_name')\n",
    "metadata = metadata.loc[metadata['Variant_Type'] == 'SNP']\n",
    "metadata = metadata.reset_index()\n",
    "metadata[['c.','info']] = metadata['cDNA_Change'].str.split('.',expand=True)\n",
    "metadata.drop('c.', inplace=True, axis=1)\n",
    "metadata[['mut','change']] = metadata['info'].str.split('>',expand=True)\n",
    "metadata.drop('change', inplace=True, axis=1)\n",
    "metadata.drop('info', inplace=True, axis=1)\n",
    "metadata[['atom_mut', 'mut_id']] = metadata['mut'].str.extract('(\\d+\\.?\\d*)([A-Za-z]*)', expand = True)\n",
    "metadata.drop('mut', inplace=True, axis=1)\n",
    "metadata.drop('mut_id', inplace=True, axis=1)\n",
    "metadata['atom_mut'] = pd.to_numeric(metadata['atom_mut'])"
   ]
  },
  {
   "cell_type": "code",
   "execution_count": null,
   "id": "f1462f0c",
   "metadata": {},
   "outputs": [],
   "source": [
    "#do one one gene first, here VPS13D\n",
    "VPS = metadata[metadata['gene_name'] == 'VPS13D']\n",
    "VPS"
   ]
  },
  {
   "cell_type": "code",
   "execution_count": null,
   "id": "682b0ed5",
   "metadata": {},
   "outputs": [],
   "source": [
    "#map to Alphafold \n",
    "doc = cif.read('AF-Q5THJ4-F1-model_v3.cif')\n",
    "block = doc.sole_block()\n",
    "atom_id = block.find_loop('_atom_site.id')\n",
    "x_coord = block.find_loop('_atom_site.Cartn_x')\n",
    "y_coord = block.find_loop('_atom_site.Cartn_y')\n",
    "z_coord = block.find_loop('_atom_site.Cartn_z')\n",
    "\n",
    "atom_id = [eval(i) for i in atom_id]\n",
    "atom_id = pd.to_numeric(atom_id)\n",
    "x_coord = [eval(i) for i in x_coord] \n",
    "y_coord = [eval(i) for i in y_coord] \n",
    "z_coord = [eval(i) for i in z_coord] \n",
    "\n",
    "xyz_coord_dic = {'atom_mut':atom_id,'x_coord':x_coord, 'y_coord':y_coord, 'z_coord':z_coord}\n",
    "xyz_coord_df = pd.DataFrame(xyz_coord_dic)"
   ]
  },
  {
   "cell_type": "code",
   "execution_count": null,
   "id": "4928060d",
   "metadata": {},
   "outputs": [],
   "source": [
    "#merge xyz with gene info\n",
    "tot = pd.merge(xyz_coord_df, VPS, on='atom_mut')"
   ]
  },
  {
   "cell_type": "code",
   "execution_count": null,
   "id": "dbb9b58d",
   "metadata": {},
   "outputs": [],
   "source": [
    "#get all genes\n",
    "gene_list = metadata['gene_name'].to_list()\n",
    "gene_list = [*set(gene_list)]"
   ]
  },
  {
   "cell_type": "code",
   "execution_count": null,
   "id": "ebbce198",
   "metadata": {},
   "outputs": [],
   "source": [
    "#map all genes\n",
    "def bar(s):\n",
    "    return 'AF-' + s + '-F1-model_v3.cif'\n",
    "\n",
    "problem_genes = []\n",
    "\n",
    "for x in gene_list:\n",
    "    sub = metadata[metadata['gene_name'] == x]\n",
    "    sub = sub.reset_index()\n",
    "    y = sub['uniprot_id'][0]\n",
    "        \n",
    "    if os.path.isfile(bar(y)):\n",
    "        with open(bar(y), 'r') as f1:\n",
    "    \n",
    "            doc = cif.read('AF-Q5THJ4-F1-model_v3.cif')\n",
    "            block = doc.sole_block()\n",
    "            atom_id = block.find_loop('_atom_site.id')\n",
    "            x_coord = block.find_loop('_atom_site.Cartn_x')\n",
    "            y_coord = block.find_loop('_atom_site.Cartn_y')\n",
    "            z_coord = block.find_loop('_atom_site.Cartn_z')\n",
    "\n",
    "            atom_id = [eval(i) for i in atom_id]\n",
    "            atom_id = pd.to_numeric(atom_id)\n",
    "            x_coord = [eval(i) for i in x_coord] \n",
    "            y_coord = [eval(i) for i in y_coord] \n",
    "            z_coord = [eval(i) for i in z_coord] \n",
    "\n",
    "            xyz_coord_dic = {'atom_mut':atom_id,'x_coord':x_coord, 'y_coord':y_coord, 'z_coord':z_coord}\n",
    "            xyz_coord_df = pd.DataFrame(xyz_coord_dic)\n",
    "    \n",
    "            df_new = pd.merge(xyz_coord_df, sub, on='atom_mut')\n",
    "    \n",
    "            dfs = [tot, df_new]\n",
    "            \n",
    "            tot = pd.concat(dfs)\n",
    "            \n",
    "    else:\n",
    "        problem_genes.append(x)\n",
    "        continue"
   ]
  },
  {
   "cell_type": "code",
   "execution_count": null,
   "id": "929ee89d",
   "metadata": {},
   "outputs": [],
   "source": [
    "tot = tot.reset_index(drop=True)"
   ]
  },
  {
   "cell_type": "code",
   "execution_count": null,
   "id": "21acd536",
   "metadata": {},
   "outputs": [],
   "source": [
    "#save this df\n",
    "\n",
    "tot.to_csv('alphafold_mapped.csv')"
   ]
  },
  {
   "cell_type": "code",
   "execution_count": null,
   "id": "60db5594",
   "metadata": {},
   "outputs": [],
   "source": [
    "#add structural info, first for VPS13D\n",
    "\n",
    "doc = cif.read('AF-Q5THJ4-F1-model_v3.cif')\n",
    "block = doc.sole_block()\n",
    "pos1 = block.find_loop('_struct_conf.beg_auth_seq_id')\n",
    "struc1 = block.find_loop('_struct_conf.conf_type_id')\n",
    "pos = [eval(i) for i in pos1]\n",
    "pos = pd.to_numeric(pos)\n",
    "struc = [i for i in struc1]\n",
    "struc_dic = {'position': pos,'structure':struc}\n",
    "struc_df = pd.DataFrame(struc_dic)\n",
    "struc_df"
   ]
  },
  {
   "cell_type": "code",
   "execution_count": null,
   "id": "2fc64367",
   "metadata": {},
   "outputs": [],
   "source": [
    "pos2 = block.find_loop('_struct_conf.end_auth_seq_id')\n",
    "struc2 = block.find_loop('_struct_conf.id')\n",
    "pos_ = [eval(i) for i in pos2]\n",
    "pos_ = pd.to_numeric(pos_)\n",
    "struc_ = [i for i in struc2]\n",
    "struc2_dic = {'position': pos_,'structure':struc_}\n",
    "struc2_df = pd.DataFrame(struc2_dic)\n",
    "struc2_df"
   ]
  },
  {
   "cell_type": "code",
   "execution_count": null,
   "id": "1b9c7bb1",
   "metadata": {},
   "outputs": [],
   "source": [
    "dfs = [struc_df,struc2_df]\n",
    "df = pd.concat(dfs)\n",
    "df = df.reset_index(drop = True)\n",
    "df['structure_pos'] = df['structure'].str.replace('([A-Z]+)', '')\n",
    "df['structure_type'] = df['structure'].str.extract('([A-Z]+)')\n",
    "df = df.drop(columns=['structure_pos'])\n",
    "df = df.drop(columns=['structure'])\n",
    "df['disorder'] = df['structure_type'].map(lambda x: x == \"STRN\")\n",
    "df['position'] = df['position'].astype(int)\n",
    "df"
   ]
  },
  {
   "cell_type": "code",
   "execution_count": null,
   "id": "6dff8591",
   "metadata": {},
   "outputs": [],
   "source": [
    "df['position'] = df['position'].astype(int)"
   ]
  },
  {
   "cell_type": "code",
   "execution_count": null,
   "id": "af875014",
   "metadata": {},
   "outputs": [],
   "source": [
    "tot['Protein_Change'] = tot['Protein_Change'].str.replace('p.', '')\n",
    "tot[['original', 'position', 'changed_mut']] = tot['Protein_Change'].str.extract('([A-Za-z]+)(\\d+\\.?\\d*)([A-Za-z]*)', expand = True)"
   ]
  },
  {
   "cell_type": "code",
   "execution_count": null,
   "id": "70979d7f",
   "metadata": {},
   "outputs": [],
   "source": [
    "tot['position'] = pd.to_numeric(tot['position'])\n",
    "tot = tot.dropna(subset=['position'])\n",
    "tot['position'] = tot['position'].astype(int)"
   ]
  },
  {
   "cell_type": "code",
   "execution_count": null,
   "id": "69826d4e",
   "metadata": {},
   "outputs": [],
   "source": [
    "sub = tot[tot[\"gene_name\"] == 'VPS13D']"
   ]
  },
  {
   "cell_type": "code",
   "execution_count": null,
   "id": "7dfb6a45",
   "metadata": {},
   "outputs": [],
   "source": [
    "merged = pd.merge(df, sub, on=['position'])"
   ]
  },
  {
   "cell_type": "code",
   "execution_count": null,
   "id": "5aab3226",
   "metadata": {},
   "outputs": [],
   "source": [
    "#do it for all genes now\n",
    "genes = tot['gene_name'].tolist()\n",
    "genes = [*set(genes)]"
   ]
  },
  {
   "cell_type": "code",
   "execution_count": null,
   "id": "5646ee4b",
   "metadata": {},
   "outputs": [],
   "source": [
    "genes.remove('VPS13D')"
   ]
  },
  {
   "cell_type": "code",
   "execution_count": null,
   "id": "a56df287",
   "metadata": {},
   "outputs": [],
   "source": [
    "def bar(s):\n",
    "    return 'AF-' + s + '-F1-model_v3.cif'\n",
    "\n",
    "for i in genes:\n",
    "    sub = tot[tot['gene_name'] == i]\n",
    "    sub = sub.reset_index(drop=True)\n",
    "    \n",
    "    y = sub['uniprot_id'][0]\n",
    "    \n",
    "    if os.path.isfile(bar(y)):\n",
    "        with open(bar(y), 'r') as f1:\n",
    "    \n",
    "            doc = cif.read(bar(y))\n",
    "            block = doc.sole_block()\n",
    "            pos1 = block.find_loop('_struct_conf.beg_auth_seq_id')\n",
    "            struc1 = block.find_loop('_struct_conf.conf_type_id')\n",
    "            pos = [eval(i) for i in pos1]\n",
    "            pos = pd.to_numeric(pos)\n",
    "            struc = [i for i in struc1]\n",
    "            struc_dic = {'position': pos,'structure':struc}\n",
    "            struc_df = pd.DataFrame(struc_dic)\n",
    "            \n",
    "            pos2 = block.find_loop('_struct_conf.end_auth_seq_id')\n",
    "            struc2 = block.find_loop('_struct_conf.id')\n",
    "            pos_ = [eval(i) for i in pos2]\n",
    "            pos_ = pd.to_numeric(pos_)\n",
    "            struc_ = [i for i in struc2]\n",
    "            struc2_dic = {'position': pos_,'structure':struc_}\n",
    "            struc2_df = pd.DataFrame(struc2_dic)\n",
    "            \n",
    "            dfs = [struc_df,struc2_df]\n",
    "            structure_df = pd.concat(dfs)\n",
    "            \n",
    "            structure_df['structure_pos'] = structure_df['structure'].str.replace('([A-Z]+)', '')\n",
    "            structure_df['structure_type'] = structure_df['structure'].str.extract('([A-Z]+)')\n",
    "            structure_df = structure_df.drop(columns=['structure_pos'])\n",
    "            structure_df = structure_df.drop(columns=['structure'])\n",
    "            structure_df['disorder'] = structure_df['structure_type'].map(lambda x: x == \"STRN\")\n",
    "            structure_df['position'] = structure_df['position'].astype(int)\n",
    "            \n",
    "            merged2 = pd.merge(structure_df, sub, on=['position'])\n",
    "            \n",
    "            dfs = [merged2,merged]\n",
    "            merged = pd.concat(dfs)"
   ]
  },
  {
   "cell_type": "code",
   "execution_count": null,
   "id": "3a89738c",
   "metadata": {},
   "outputs": [],
   "source": [
    "#save\n",
    "merged.to_csv('alphafold_mapped_struc.csv')"
   ]
  },
  {
   "cell_type": "code",
   "execution_count": null,
   "id": "b74edb64",
   "metadata": {},
   "outputs": [],
   "source": [
    "#get rid of disordered regions\n",
    "xyz = merged[merged['disorder'] == False]"
   ]
  },
  {
   "cell_type": "code",
   "execution_count": null,
   "id": "98cd88d1",
   "metadata": {},
   "outputs": [],
   "source": [
    "#formatting dataframe to add confidence scores by isolating protein residue\n",
    "xyz[['firstcol', 'mut_residue', 'thirdcol']] = xyz['Protein_Change'].str.extract('([A-Za-z]+)(\\d+\\.?\\d*)([A-Za-z]*)', expand = True)\n",
    "xyz = xyz.drop(columns=['firstcol','thirdcol'])\n",
    "xyz = xyz.dropna(subset=['mut_residue'])\n",
    "xyz = xyz.reset_index(drop=True)"
   ]
  },
  {
   "cell_type": "code",
   "execution_count": null,
   "id": "1ba75b43",
   "metadata": {},
   "outputs": [],
   "source": [
    "#add scores\n",
    "def bar(s):\n",
    "    return 'AF-' + s + '-F1-model_v3.cif'\n",
    "\n",
    "scores_list = []\n",
    "\n",
    "try:\n",
    "    for i in range(len(xyz)):\n",
    "        x = merged['uniprot_id'][i] \n",
    "        if os.path.isfile(bar(x)):\n",
    "            with open(bar(x), 'r') as f1:\n",
    "                doc = cif.read(bar(x))\n",
    "                block = doc.sole_block()\n",
    "                residue = block.find_loop('_ma_qa_metric_local.label_seq_id')\n",
    "                score = block.find_loop('_ma_qa_metric_local.metric_value')\n",
    "                scorelist = list(score)\n",
    "                residuelist = list(residue)\n",
    "                residuelist = [eval(i) for i in residuelist]\n",
    "                scorelist = list(score)\n",
    "                y = int(xyz['mut_residue'][i])\n",
    "                if y in residuelist:\n",
    "                    scores_list.append(scorelist[y-1])\n",
    "                else:\n",
    "                    scores_list.append('no') \n",
    "                    \n",
    "except:\n",
    "    print(i)"
   ]
  },
  {
   "cell_type": "code",
   "execution_count": null,
   "id": "c714cebf",
   "metadata": {},
   "outputs": [],
   "source": [
    "xyz['score'] = scores_list"
   ]
  },
  {
   "cell_type": "code",
   "execution_count": null,
   "id": "2b4d69ae",
   "metadata": {},
   "outputs": [],
   "source": [
    "xyz.to_csv('alphafold_nodisorder_confidence_mapped.csv')"
   ]
  },
  {
   "cell_type": "code",
   "execution_count": null,
   "id": "58ec66d6",
   "metadata": {},
   "outputs": [],
   "source": [
    "#can do the same for the whole mapped dataset without structural info too\n",
    "\n",
    "def bar(s):\n",
    "    return 'AF-' + s + '-F1-model_v3.cif'\n",
    "\n",
    "scores_list = []\n",
    "\n",
    "try:\n",
    "    for i in range(len(tot)):\n",
    "        x = tot['uniprot_id'][i] \n",
    "        if os.path.isfile(bar(x)):\n",
    "            with open(bar(x), 'r') as f1:\n",
    "                doc = cif.read(bar(x))\n",
    "                block = doc.sole_block()\n",
    "                residue = block.find_loop('_ma_qa_metric_local.label_seq_id')\n",
    "                score = block.find_loop('_ma_qa_metric_local.metric_value')\n",
    "                scorelist = list(score)\n",
    "                residuelist = list(residue)\n",
    "                residuelist = [eval(i) for i in residuelist]\n",
    "                scorelist = list(score)\n",
    "                y = int(tot['position'][i])\n",
    "                if y in residuelist:\n",
    "                    scores_list.append(scorelist[y-1])\n",
    "                else:\n",
    "                    scores_list.append('no') \n",
    "                    \n",
    "except:\n",
    "    print(i)"
   ]
  },
  {
   "cell_type": "code",
   "execution_count": null,
   "id": "33a45855",
   "metadata": {},
   "outputs": [],
   "source": [
    "#add to df\n",
    "tot['score'] = scores_list"
   ]
  },
  {
   "cell_type": "code",
   "execution_count": null,
   "id": "8eae0d0c",
   "metadata": {},
   "outputs": [],
   "source": [
    "#get rid of anything with no info\n",
    "tot = tot[tot['score']!= 'no']\n",
    "tot = tot.reset_index(drop=True)"
   ]
  },
  {
   "cell_type": "code",
   "execution_count": null,
   "id": "dac0708c",
   "metadata": {},
   "outputs": [],
   "source": [
    "#save\n",
    "tot.to_csv('alphafold_mapped_confidence.csv')"
   ]
  },
  {
   "cell_type": "code",
   "execution_count": null,
   "id": "70a91587",
   "metadata": {},
   "outputs": [],
   "source": [
    "#can filter for confidence level, say above 70, if needed\n",
    "\n",
    "xyz2 = xyz[xyz['score'].astype(float)>70]"
   ]
  },
  {
   "cell_type": "code",
   "execution_count": null,
   "id": "b67bc064",
   "metadata": {},
   "outputs": [],
   "source": [
    "xyz2.to_csv('alphafold_mapped_confidence_above70.csv')"
   ]
  }
 ],
 "metadata": {
  "kernelspec": {
   "display_name": "Python 3",
   "language": "python",
   "name": "python3"
  },
  "language_info": {
   "codemirror_mode": {
    "name": "ipython",
    "version": 3
   },
   "file_extension": ".py",
   "mimetype": "text/x-python",
   "name": "python",
   "nbconvert_exporter": "python",
   "pygments_lexer": "ipython3",
   "version": "3.8.8"
  }
 },
 "nbformat": 4,
 "nbformat_minor": 5
}
