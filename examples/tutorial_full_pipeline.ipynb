{
  "cells": [
    {
      "cell_type": "markdown",
      "metadata": {},
      "source": [
        "# VAMOS Full Pipeline Tutorial\n",
        "This notebook demonstrates running the full pipeline on the toy dataset."
      ]
    },
    {
      "cell_type": "code",
      "execution_count": null,
      "metadata": {},
      "outputs": [],
      "source": [
        "from vamos.mapping import run_mapping\n",
        "from vamos.clustering import run_clustering\n",
        "from vamos.ml import run_ml\n",
        "from vamos.stats import run_stats\n",
        "\n",
        "# Run each stage\n",
        "run_mapping()\n",
        "run_clustering()\n",
        "run_ml()\n",
        "run_stats()"
      ]
    }
  ],
  "metadata": {
    "kernelspec": {
      "display_name": "Python 3",
      "language": "python",
      "name": "python3"
    },
    "language_info": {
      "name": "python",
      "version": "3.10"
    }
  },
  "nbformat": 4,
  "nbformat_minor": 5
}